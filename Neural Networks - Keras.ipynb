{
 "cells": [
  {
   "cell_type": "markdown",
   "id": "9bd628c2",
   "metadata": {},
   "source": [
    "## Neural Networks: Keras"
   ]
  },
  {
   "cell_type": "code",
   "execution_count": null,
   "id": "b704c3a3",
   "metadata": {},
   "outputs": [],
   "source": [
    "from keras import *\n",
    "from keras.models import Sequential # Usual NN with several layers\n",
    "from keras.layers import Dense # fully connected NN (all weights there)"
   ]
  },
  {
   "cell_type": "markdown",
   "id": "7852d5b8",
   "metadata": {},
   "source": [
    "#### Define a NN with \n",
    "    1 input layer - 2 neurons\n",
    "    3 hidden layers - 150 neurons / 150 neurons / 100 neurons\n",
    "    1 output layer - 1 neuron"
   ]
  },
  {
   "cell_type": "code",
   "execution_count": null,
   "id": "6ca49167",
   "metadata": {},
   "outputs": [],
   "source": [
    "net=Sequential() \n",
    "net.add(Dense(150, input_shape=(2,),activation='relu')) # Input shape = number of neurons\n",
    "net.add(Dense(150, activation='relu'))\n",
    "net.add(Dense(100, activation='relu'))\n",
    "net.add(Dense(1, activation='relu'))\n",
    "\n",
    "net.compile(loss='mean_squared_error', \n",
    "            optimizer=optimizers.SGD(lr=0.1),\n",
    "            metrics=['accuracy'])\n",
    "# Makebatch\n",
    "#def make_batch()\n",
    "#    y_in=...\n",
    "#    y_target=...\n",
    "\n",
    "batchsize=20\n",
    "batches=200\n",
    "costs=zeros(batches)\n",
    "\n",
    "for k in range(batches):\n",
    "    y_in,y_target=make_batch()   # y_in dim: batchsize x 2 / y_target dim: batchsize x 1\n",
    "    costs[k]=net.train_on_batch(y_in,y_target)[0]\n",
    "# It returns some numbers that tell you how well you are training,\n",
    "# the first of these numbers [0] is actually the value of the cost function\n",
    "# at that training moment. I keep track of the learning progress by saving the values on costs[]\n",
    "\n",
    "y_out=net.predict_on_batch(y_in)"
   ]
  },
  {
   "cell_type": "markdown",
   "id": "2000035a",
   "metadata": {},
   "source": [
    "#### Handwritting recognition (MNIST)\n",
    "\n",
    "    - distinguish categories\n",
    "    - softmax nonlinearity for probability distributions\n",
    "    - categorical cross-entropy cost function\n",
    "    - training/validation/test data\n",
    "    - overfitting and some solutions\n",
    "    \n",
    "Input a 28x28 image = 784 gray values -> NN -> output the category classification 'one hot encoding'\n",
    "\n",
    "Since we have 10 different handwritten digits (from 0 to 9), we have 10 output neurons: i.e.,\n",
    "\n",
    "           Neuron responsible of number (#)\n",
    "                     - 0 (0)    - reality -  0.1\n",
    "                     - 0 (1)    - reality -  0\n",
    "                     - 0 (2)    - reality -  0\n",
    "                     - 0 (3)    - reality -  0\n",
    "                     - 0 (4)    - reality -  0.1\n",
    "    input: 6 ->  NN\n",
    "                     - 0 (5)    - reality -  0.1\n",
    "                     - 1 (6)    - reality -  0.7\n",
    "                     - 0 (7)    - reality -  0\n",
    "                     - 0 (8)    - reality -  0\n",
    "                     - 0 (9)    - reality -  0\n",
    "                     \n",
    "* 'One-hot encoding' = only ONE neuron is activated (hot) and all the others are 0, i.e., 0000001000, etc.\n",
    "\n",
    "Input consists on thousands of image pixels; the output is the category that tells me what does this image represents.  \n",
    "\n",
    "**Probabilities should always be normalized: the sum of all the output neurons should be = 1** \n",
    "    \n",
    "    -> last hidden layer to output layer to make sure normalization is done\n",
    "    -> to do so: last hidden layer to output >> non-linear function that depends on all values simultaneously!\n",
    "    -> MULTIVARIABLE GENERALIZATION OF SIGMOID FUNCTION: SOFTMAX activation function\n",
    "\n",
    "$\\qquad \\qquad \\qquad \\qquad \\qquad \\qquad f_j(z_1,z_2,...)=\\frac{e^{z_j}}{\\sum_{k=1}^{N}e^{z_k}}$"
   ]
  },
  {
   "cell_type": "code",
   "execution_count": null,
   "id": "b8fff112",
   "metadata": {},
   "outputs": [],
   "source": [
    "net.add(Dense(10, activation='softmax'))"
   ]
  },
  {
   "cell_type": "markdown",
   "id": "d63bc04c",
   "metadata": {},
   "source": [
    "**Cost function**\n",
    "\n",
    "For any probability distribution (S is non-negative, additive for factorizable distributions): $S=-\\sum_jp_jln p_j$\n",
    "\n",
    "\n",
    "Categorical cross-entropy cost function - compare two distributions; 'y' are probabilities: $C=-\\sum_jy_i^{target}lny_j^{out}$, \n",
    "\n",
    "being $y_j^{target}=F_j(y^{in})$ the desired 'one-hot' classification -in handwritting MNIST case-\n",
    "\n",
    "An advantage of using this function is that its derivative doesn't get exponentially small when one neuron is very close to 1 and the others to 0.\n",
    "\n",
    "$f_j(z_1,z_2,...)=\\frac{e^{z_j}}{\\sum_{k=1}^{N}e^{z_k}}$ -> $\\frac{\\partial}{\\partial w}ln f_j(z) = \\frac{\\partial z_j}{\\partial w} - \\frac{\\sum_k \\frac{\\partial z_k}{\\partial w}e^{z_k}}{\\sum_k e^{z_k}}$\n",
    "\n",
    "Conversely, for quadratic cost function: \n",
    "\n",
    "$f_j(z_1,z_2,...)=\\frac{e^{z_j}}{\\sum_{k=1}^{N}e^{z_k}}$ -> $\\frac{\\partial}{\\partial w}\\sum_j(f_j(z)-y_j^{target})^2=2\\sum_j(f_j(z)-y_j^{target})\\frac{\\partial f_j(z)}{\\partial w}$\n",
    "\n",
    "Training may get stuck for a long time -> slope becomes exponentially small as you go for large values."
   ]
  },
  {
   "cell_type": "code",
   "execution_count": null,
   "id": "fa72e6f4",
   "metadata": {},
   "outputs": [],
   "source": [
    "net.compile(loss='categorical_crossentropy',optimize=optimizers.SGD(lr=1.0),metrics=['categorical_accuracy'])"
   ]
  },
  {
   "cell_type": "markdown",
   "id": "bf931a3b",
   "metadata": {},
   "source": [
    "##### Training on MNIST images\n",
    "\n",
    "    training_inputs  : array num_samples x numpixels\n",
    "    training_results : array num_samples x 10 ('onehot')\n",
    "    \n",
    "**One epoch means training at once ALL 50000 training images feed them into net in batches of size 100**, here we do 30 epochs. "
   ]
  },
  {
   "cell_type": "code",
   "execution_count": null,
   "id": "d0b6dbbe",
   "metadata": {},
   "outputs": [],
   "source": [
    "history=net.fit(training_inputs, training_results, batch_size=100, epochs=30)"
   ]
  },
  {
   "cell_type": "markdown",
   "id": "afd131ea",
   "metadata": {},
   "source": [
    "*Accuracy during training may be very high (97%, i.e., only <3% error): how many you recognize in the right manner. However, when we test, about the 7% are labeled incorrectly -> assessing accuracy on the training set may yield results too optimistic -> compare with samples which are not used for training (test set).*\n",
    "\n",
    "    [VALIDATION SET](5000 images)*\n",
    "    [ TRAINING SET ](45000 images)\n",
    "    ----------------\n",
    "    [   TEST SET   ](10000 images)\n",
    "\n",
    "**idea: use cross-validation in training set to build validation*\n",
    "\n",
    "**IF ACCURACY vs EPOCHS TENDENCY (DURING VALIDATION) DECREASES -> OVERFITTING: NN memorizes the training samples -> it cannot generalize to unfamiliar data**\n",
    "\n",
    "    - ALWAYS measure accuracy against validation data, independent of training data\n",
    "    - Stop after reaching maximum in validation accuracy\n",
    "    - Generate fresh training data by distorting existing images (transformations: rotations, scale up, etc.)\n",
    "    - Dropout -> set to zero random neuron values during training, such that the network has to cope with that noise and never learns too much detail."
   ]
  },
  {
   "cell_type": "markdown",
   "id": "ad0e1d2d",
   "metadata": {},
   "source": [
    "## Convolutional networks:"
   ]
  },
  {
   "cell_type": "markdown",
   "id": "c4ecab32",
   "metadata": {},
   "source": [
    "Translational invariance -> different image meaning the same (e.g., image of a 9 but moved)"
   ]
  },
  {
   "cell_type": "markdown",
   "id": "846fedcc",
   "metadata": {},
   "source": [
    "    Convolutions:\n",
    "$ \\qquad F^{new}(x)=\\int K(x-x')F(x')dx'$ , being $K$ the kernel -only depends on the difference of coordinates- \n",
    "    \n",
    "    Convolutional layer:\n",
    "    \n",
    "    For a kernel of size 3, we have three weights w1, w2 and w3 which define the filter. SAME weight values for different neurons in same layer. Store only 3 values of the weights. Is essentially to scan the kernel over the original image: we learn the kernel weights. \n",
    "\n",
    "- Exploit translational invariance: features learned in one part of an image will be automatically recognized in different parts. \n",
    "\n",
    "- Drastic reduction of the number of weights stored: when fully connected ($N^2$, being N the size of layer/image), for a convolutional (M, being the size of the kernel). \n",
    "\n",
    "- It is independent of the size of the image: lower memory consumption, improved speed. \n",
    "\n",
    "    Define several filters -> smoothing, contours, etc. -> several channels too\n",
    "    \n",
    "    Once we want to output from convolutional to one-hot encoder -> dense()"
   ]
  },
  {
   "cell_type": "markdown",
   "id": "c3d2d6b2",
   "metadata": {},
   "source": [
    "For a 2D convolutional layer, input a NxN image; only 1 channel (not RGB for instance)\n",
    "\n",
    "About the channels: \n",
    "    For a 3-channeled MxM image -> conv -> 6 channels MxM image\n",
    "    - In any output channel, each pixel receives input from KxK nearby pixels in any of the input channels (each of those input channel pixels regions is weigted by a different filter); contributions from all the input channels are linearly superimposed. \n",
    "    \n",
    "    * Keras gets rid of this -> we only need to specify the # of channels."
   ]
  },
  {
   "cell_type": "code",
   "execution_count": null,
   "id": "73235969",
   "metadata": {},
   "outputs": [],
   "source": [
    "net.add(Conv2D(input_shape=(N,N,1),\n",
    "               filters=20, # From 1 input image I get 20 -filters- > next layer is NxNx20\n",
    "               kernel_size=[11,11], # Influence zone aroung a given pixel \n",
    "               activation='relu',\n",
    "               padding='same')) # What to do at borders: force image size to remain the same"
   ]
  },
  {
   "cell_type": "markdown",
   "id": "4aa39f85",
   "metadata": {},
   "source": [
    "We can reduce the resolution by subsampling: \"max pooling\" or \"max pooling\""
   ]
  },
  {
   "cell_type": "code",
   "execution_count": null,
   "id": "3426d2ce",
   "metadata": {},
   "outputs": [],
   "source": [
    "net.add(AveragePooling2D(pool_size=8))"
   ]
  },
  {
   "cell_type": "markdown",
   "id": "2f3c59a3",
   "metadata": {},
   "source": [
    "Enlarging the image size: repeats values"
   ]
  },
  {
   "cell_type": "code",
   "execution_count": null,
   "id": "27943088",
   "metadata": {},
   "outputs": [],
   "source": [
    "net.add(UpSampling2D(size=8))"
   ]
  },
  {
   "cell_type": "markdown",
   "id": "544ca601",
   "metadata": {},
   "source": [
    "Handwritting conv net: \n",
    "\n",
    "    input 28x28 -> conv: 7 channels x 28x28 -> subsampling/4: 7x(7x7), output: dense(softmax)"
   ]
  },
  {
   "cell_type": "code",
   "execution_count": null,
   "id": "0475e410",
   "metadata": {},
   "outputs": [],
   "source": [
    "# initialize the conv NN\n",
    "# M=28 for 28x28 pixel images\n",
    "def init_net_conv_simple():\n",
    "    global net,M\n",
    "    net = Sequential()\n",
    "    net.add(Conv2D(input_shape=(M,M,1), filters=7,\n",
    "                  kernel_size=[5,5], activation='relu', padding='same'))\n",
    "    net.add(AveragePooling2D(pool_size=4))\n",
    "    \n",
    "    net.add(Flatten()) #MUST for transition to dense layer\n",
    "    \n",
    "    net.add(Dense(10,activation='softmax')) # Fully connected NN\n",
    "    net.compile(loss='categorical_crossentropy', optimizer=optimizers.SGD(lr=1.0),metrics=['categorical_accuracy'])"
   ]
  }
 ],
 "metadata": {
  "kernelspec": {
   "display_name": "Python 3 (ipykernel)",
   "language": "python",
   "name": "python3"
  },
  "language_info": {
   "codemirror_mode": {
    "name": "ipython",
    "version": 3
   },
   "file_extension": ".py",
   "mimetype": "text/x-python",
   "name": "python",
   "nbconvert_exporter": "python",
   "pygments_lexer": "ipython3",
   "version": "3.8.13"
  }
 },
 "nbformat": 4,
 "nbformat_minor": 5
}
