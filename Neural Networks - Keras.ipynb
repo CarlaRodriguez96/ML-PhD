{
 "cells": [
  {
   "cell_type": "markdown",
   "id": "fcee93a4",
   "metadata": {},
   "source": [
    "## Neural Networks: Keras"
   ]
  },
  {
   "cell_type": "code",
   "execution_count": null,
   "id": "d390bc89",
   "metadata": {},
   "outputs": [],
   "source": [
    "from keras import *\n",
    "from keras.models import Sequential # Usual NN with several layers\n",
    "from keras.layers import Dense # fully connected NN (all weights there)"
   ]
  },
  {
   "cell_type": "markdown",
   "id": "9e8de870",
   "metadata": {},
   "source": [
    "#### Define a NN with \n",
    "    1 input layer - 2 neurons\n",
    "    3 hidden layers - 150 neurons / 150 neurons / 100 neurons\n",
    "    1 output layer - 1 neuron"
   ]
  },
  {
   "cell_type": "code",
   "execution_count": null,
   "id": "c7bbd871",
   "metadata": {},
   "outputs": [],
   "source": [
    "net=Sequential() \n",
    "net.add(Dense(150, input_shape=(2,),activation='relu')) # Input shape = number of neurons\n",
    "net.add(Dense(150, activation='relu'))\n",
    "net.add(Dense(100, activation='relu'))\n",
    "net.add(Dense(1, activation='relu'))\n",
    "\n",
    "net.compile(loss='mean_squared_error', \n",
    "            optimizer=optimizers.SGD(lr=0.1),\n",
    "            metrics=['accuracy'])\n",
    "# Makebatch\n",
    "#def make_batch()\n",
    "#    y_in=...\n",
    "#    y_target=...\n",
    "\n",
    "batchsize=20\n",
    "batches=200\n",
    "costs=zeros(batches)\n",
    "\n",
    "for k in range(batches):\n",
    "    y_in,y_target=make_batch()   # y_in dim: batchsize x 2 / y_target dim: batchsize x 1\n",
    "    costs[k]=net.train_on_batch(y_in,y_target)[0]\n",
    "# It returns some numbers that tell you how well you are training,\n",
    "# the first of these numbers [0] is actually the value of the cost function\n",
    "# at that training moment. I keep track of the learning progress by saving the values on costs[]\n",
    "\n",
    "y_out=net.predict_on_batch(y_in)"
   ]
  },
  {
   "cell_type": "markdown",
   "id": "9c66ad59",
   "metadata": {},
   "source": [
    "#### Handwritting recognition (MNIST)\n",
    "\n",
    "    - distinguish categories\n",
    "    - softmax nonlinearity for probability distributions\n",
    "    - categorical cross-entropy cost function\n",
    "    - training/validation/test data\n",
    "    - overfitting and some solutions\n",
    "    \n",
    "Input a 28x28 image = 784 gray values -> NN -> output the category classification 'one hot encoding'\n",
    "\n",
    "Since we have 10 different handwritten digits (from 0 to 9), we have 10 output neurons: i.e.,\n",
    "\n",
    "           Neuron responsible of number (#)\n",
    "                     - 0 (0)    - reality -  0.1\n",
    "                     - 0 (1)    - reality -  0\n",
    "                     - 0 (2)    - reality -  0\n",
    "                     - 0 (3)    - reality -  0\n",
    "                     - 0 (4)    - reality -  0.1\n",
    "    input: 6 ->  NN\n",
    "                     - 0 (5)    - reality -  0.1\n",
    "                     - 1 (6)    - reality -  0.7\n",
    "                     - 0 (7)    - reality -  0\n",
    "                     - 0 (8)    - reality -  0\n",
    "                     - 0 (9)    - reality -  0\n",
    "                     \n",
    "* 'One-hot encoding' = only ONE neuron is activated (hot) and all the others are 0, i.e., 0000001000, etc.\n",
    "\n",
    "Input consists on thousands of image pixels; the output is the category that tells me what does this image represents.  \n",
    "\n",
    "**Probabilities should always be normalized: the sum of all the output neurons should be = 1** \n",
    "    \n",
    "    -> last hidden layer to output layer to make sure normalization is done\n",
    "    -> to do so: last hidden layer to output >> non-linear function that depends on all values simultaneously!\n",
    "    -> MULTIVARIABLE GENERALIZATION OF SIGMOID FUNCTION: SOFTMAX activation function\n",
    "\n",
    "$\\qquad \\qquad \\qquad \\qquad \\qquad \\qquad f_j(z_1,z_2,...)=\\frac{e^{z_j}}{\\sum_{k=1}^{N}e^{z_k}}$"
   ]
  },
  {
   "cell_type": "code",
   "execution_count": null,
   "id": "b8972243",
   "metadata": {},
   "outputs": [],
   "source": [
    "net.add(Dense(10, activation='softmax'))"
   ]
  },
  {
   "cell_type": "markdown",
   "id": "b45d4445",
   "metadata": {},
   "source": [
    "**Cost function**\n",
    "\n",
    "For any probability distribution (S is non-negative, additiva for factorizable distributions): $S=-\\sum_jp_jln p_j$\n",
    "\n",
    "\n"
   ]
  },
  {
   "cell_type": "code",
   "execution_count": null,
   "id": "c610fb7f",
   "metadata": {},
   "outputs": [],
   "source": []
  }
 ],
 "metadata": {
  "kernelspec": {
   "display_name": "Python 3 (ipykernel)",
   "language": "python",
   "name": "python3"
  },
  "language_info": {
   "codemirror_mode": {
    "name": "ipython",
    "version": 3
   },
   "file_extension": ".py",
   "mimetype": "text/x-python",
   "name": "python",
   "nbconvert_exporter": "python",
   "pygments_lexer": "ipython3",
   "version": "3.8.13"
  }
 },
 "nbformat": 4,
 "nbformat_minor": 5
}
