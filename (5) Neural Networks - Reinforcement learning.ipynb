{
 "cells": [
  {
   "cell_type": "markdown",
   "id": "6e10624e",
   "metadata": {},
   "source": [
    "## Neural Networks: \n",
    "\n",
    "from https://pad.gwdg.de/s/Machine_Learning_For_Physicists_2021#"
   ]
  },
  {
   "cell_type": "markdown",
   "id": "c626ccb1",
   "metadata": {},
   "source": [
    "## Reinforcement learning\n",
    "\n",
    "\n",
    "                   observation\n",
    "              --------------------(ENVIRONMENT)   Fully observed vs. partially observed 'state' of the environment\n",
    "              |                       ^\n",
    "              v                       |\n",
    "            (AGENT) -------------------\n",
    "                         action\n",
    "\n",
    "    Agent may be: self-driving car, robot -> observes inmediate environment & moves. \n",
    "\n",
    "- Train a net to produce actions based on rare rewards instead of being told the correct action. \n",
    "\n",
    "**Challenge**: the correct action is unknown -> **NO SUPERVISED LEARNING**; reward will be rare (or decided only at end). We could use the final reward to define a cost function, but we cannot know how the environment reacts to a proposed chage of the actions that were taken (UNLESS we have a model of environment). \n",
    "\n",
    "E.g., game\n",
    "\n",
    "        State  = full map\n",
    "        Action = move\n",
    "        Reward - based on how many treasures were collected"
   ]
  },
  {
   "cell_type": "markdown",
   "id": "749f0bcb",
   "metadata": {},
   "source": [
    "**MODEL-FREE GENERAL REINFORCEMENT LEARNING TECHNIQUES** \n",
    "\n",
    "**A. REINFORCE: Policy gradient**: use probabilistic action choice. If the reward at the end turns out to be high, make **all** the actions in this sequence **more likely** (otherwise, do the opposite). This also reinforces 'bad' actions, but since they occur more likely in trajectories with low reward, the net effect will still be to suppress them. \n",
    "\n",
    "**B.**:"
   ]
  },
  {
   "cell_type": "code",
   "execution_count": null,
   "id": "a5b96d44",
   "metadata": {},
   "outputs": [],
   "source": []
  }
 ],
 "metadata": {
  "kernelspec": {
   "display_name": "Python 3 (ipykernel)",
   "language": "python",
   "name": "python3"
  },
  "language_info": {
   "codemirror_mode": {
    "name": "ipython",
    "version": 3
   },
   "file_extension": ".py",
   "mimetype": "text/x-python",
   "name": "python",
   "nbconvert_exporter": "python",
   "pygments_lexer": "ipython3",
   "version": "3.8.12"
  }
 },
 "nbformat": 4,
 "nbformat_minor": 5
}
