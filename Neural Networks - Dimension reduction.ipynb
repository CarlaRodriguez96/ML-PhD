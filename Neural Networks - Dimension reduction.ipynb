{
 "cells": [
  {
   "cell_type": "markdown",
   "id": "44124bff",
   "metadata": {},
   "source": [
    "## Neural Networks: \n",
    "\n",
    "from https://pad.gwdg.de/s/Machine_Learning_For_Physicists_2021#\n",
    "\n",
    "- Dimensionality-reducing techniques"
   ]
  },
  {
   "cell_type": "markdown",
   "id": "393a5c6b",
   "metadata": {},
   "source": [
    "## Visualizing high-dimensional data: return to unsupervised & non-linear ML\n",
    "\n",
    "If we want to represent/visualize some of the neuron values in some intermediate layer (but the're so many of them...) -> need to project/reduce down to **2 dimensions** -> smart ways to project -> important characteristics I want to keep:  keeping the distance relation quantitatively similar (see which inputs are close to each other / or very different, etc.).\n",
    "\n",
    "    1. Obtain PCA, plot the components of each image with respect to 2 eigenvectors with the LARGEST eigenvalues (the 2 components explaining the largest variance).  \n",
    "    \n",
    "    2. t-SNE: high-dimensional space to 2D - without LABELING! \n",
    "    \n",
    "Cost function that depends on how close the distances of low-dimensional datapoints 'y' are to those of high-dimensional points 'x': \n",
    "\n",
    "\\begin{equation}\n",
    "C=\\sum_{i\\neq j}F(|x_i-x_j|, |y_i-y_j|)\n",
    "\\end{equation}\n",
    "\n",
    "Minimize the cost function (e.g., SGD): points in low-dim. space **repel if they're closer than their counterparts in hihg-dim. and attract otherwise**."
   ]
  },
  {
   "cell_type": "code",
   "execution_count": null,
   "id": "3997c541",
   "metadata": {},
   "outputs": [],
   "source": []
  }
 ],
 "metadata": {
  "kernelspec": {
   "display_name": "Python 3 (ipykernel)",
   "language": "python",
   "name": "python3"
  },
  "language_info": {
   "codemirror_mode": {
    "name": "ipython",
    "version": 3
   },
   "file_extension": ".py",
   "mimetype": "text/x-python",
   "name": "python",
   "nbconvert_exporter": "python",
   "pygments_lexer": "ipython3",
   "version": "3.8.12"
  }
 },
 "nbformat": 4,
 "nbformat_minor": 5
}
